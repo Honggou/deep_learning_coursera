{
 "cells": [
  {
   "cell_type": "code",
   "execution_count": 1,
   "metadata": {},
   "outputs": [
    {
     "name": "stdout",
     "output_type": "stream",
     "text": [
      "dot product in vector result: 24975.28764609657, cost time: 138.844013 ms\n",
      "dot product in loop result: 24975.28764609669, cost time: 441.429615 ms\n"
     ]
    }
   ],
   "source": [
    "import numpy as np\n",
    "import time\n",
    "\n",
    "number = 100000\n",
    "a = np.random.rand(number)\n",
    "b = np.random.rand(number)\n",
    "\n",
    "start_time = time.time()\n",
    "dot_result = np.dot(a, b)\n",
    "end_time= time.time()\n",
    "\n",
    "print(\"dot product in vector result: {1}, cost time: {0:.6f} ms\".format(1000*(end_time - start_time), dot_result))\n",
    "\n",
    "start_time = time.time()\n",
    "dot_result = 0.0\n",
    "for i in range(number):\n",
    "    dot_result += a[i] * b[i]\n",
    "end_time= time.time()\n",
    "\n",
    "print(\"dot product in loop result: {1}, cost time: {0:.6f} ms\".format(10000*(end_time - start_time), dot_result))"
   ]
  },
  {
   "cell_type": "code",
   "execution_count": 2,
   "metadata": {},
   "outputs": [
    {
     "name": "stdout",
     "output_type": "stream",
     "text": [
      "exp_test:\n",
      "[ 1.          2.71828183  7.3890561  54.59815003]\n",
      "(4,)\n",
      "[0 1 2 4]\n",
      "21\n",
      "[[0 1 2 4]]\n",
      "(1, 4)\n",
      "[[21]]\n"
     ]
    }
   ],
   "source": [
    "\n",
    "test = np.array([0, 1, 2, 4])\n",
    "exp_test = np.exp(test)\n",
    "print(\"exp_test:\")\n",
    "print(exp_test)\n",
    "print(exp_test.shape)\n",
    "print(test.T)\n",
    "print(np.dot(test, test.T))\n",
    "\n",
    "test_4_1 = test.reshape(1,4)\n",
    "print(test_4_1)\n",
    "print(test_4_1.shape)\n",
    "print(np.dot(test_4_1, test_4_1.T))"
   ]
  },
  {
   "cell_type": "code",
   "execution_count": 3,
   "metadata": {},
   "outputs": [
    {
     "name": "stdout",
     "output_type": "stream",
     "text": [
      "(4, 3)\n",
      "(3, 2)\n",
      "(4, 2)\n",
      "[[-0.0255694   0.83846922]\n",
      " [-0.59186966 -1.13080655]\n",
      " [ 0.10688641 -0.0926064 ]\n",
      " [-0.90679697 -1.64112028]]\n"
     ]
    }
   ],
   "source": [
    "a = np.random.randn(4,3)\n",
    "print(a.shape)\n",
    "\n",
    "b = np.random.randn(3,2)\n",
    "print(b.shape)\n",
    "\n",
    "#print(a*b) \n",
    "c = np.dot(a,b)\n",
    "print(c.shape)\n",
    "print(c)"
   ]
  },
  {
   "cell_type": "code",
   "execution_count": null,
   "metadata": {},
   "outputs": [],
   "source": []
  }
 ],
 "metadata": {
  "kernelspec": {
   "display_name": "Python 3",
   "language": "python",
   "name": "python3"
  },
  "language_info": {
   "codemirror_mode": {
    "name": "ipython",
    "version": 3
   },
   "file_extension": ".py",
   "mimetype": "text/x-python",
   "name": "python",
   "nbconvert_exporter": "python",
   "pygments_lexer": "ipython3",
   "version": "3.6.4"
  }
 },
 "nbformat": 4,
 "nbformat_minor": 2
}
